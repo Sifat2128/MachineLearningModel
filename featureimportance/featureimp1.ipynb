{
 "cells": [
  {
   "cell_type": "code",
   "execution_count": 2,
   "id": "52c23429",
   "metadata": {},
   "outputs": [
    {
     "name": "stdout",
     "output_type": "stream",
     "text": [
      "Decision Tree Feature Importances:\n",
      "petal length (cm)    0.564056\n",
      "petal width (cm)     0.422611\n",
      "sepal length (cm)    0.013333\n",
      "sepal width (cm)     0.000000\n",
      "dtype: float64\n",
      "\n",
      "Random Forest Feature Importances:\n",
      "petal length (cm)    0.436130\n",
      "petal width (cm)     0.436065\n",
      "sepal length (cm)    0.106128\n",
      "sepal width (cm)     0.021678\n",
      "dtype: float64\n",
      "Original shape: (150, 4)\n",
      "Reduced shape: (150, 3)\n",
      "Selected features: ['sepal length (cm)', 'petal length (cm)', 'petal width (cm)']\n"
     ]
    }
   ],
   "source": [
    "from sklearn.datasets import load_iris\n",
    "from sklearn.tree import DecisionTreeClassifier\n",
    "from sklearn.ensemble import RandomForestClassifier\n",
    "import pandas as pd\n",
    "\n",
    "# Load dataset\n",
    "data = load_iris()\n",
    "X, y = data.data, data.target\n",
    "feature_names = data.feature_names\n",
    "\n",
    "# Decision Tree\n",
    "dt = DecisionTreeClassifier(random_state=42)\n",
    "dt.fit(X, y)\n",
    "dt_importances = pd.Series(dt.feature_importances_, index=feature_names)\n",
    "\n",
    "# Random Forest\n",
    "rf = RandomForestClassifier(random_state=42, n_estimators=100)\n",
    "rf.fit(X, y)\n",
    "rf_importances = pd.Series(rf.feature_importances_, index=feature_names)\n",
    "\n",
    "print(\"Decision Tree Feature Importances:\")\n",
    "print(dt_importances.sort_values(ascending=False))\n",
    "\n",
    "print(\"\\nRandom Forest Feature Importances:\")\n",
    "print(rf_importances.sort_values(ascending=False))\n",
    "from sklearn.datasets import load_iris\n",
    "from sklearn.ensemble import RandomForestClassifier\n",
    "import pandas as pd\n",
    "\n",
    "# Load dataset\n",
    "\n",
    "# Get feature importance\n",
    "importances = pd.Series(rf.feature_importances_, index=feature_names)\n",
    "\n",
    "# Keep only features with importance > 0.1\n",
    "selected_features = importances[importances > 0.1].index\n",
    "X_reduced = pd.DataFrame(X, columns=feature_names)[selected_features]\n",
    "\n",
    "print(\"Original shape:\", X.shape)\n",
    "print(\"Reduced shape:\", X_reduced.shape)\n",
    "print(\"Selected features:\", list(selected_features))\n"
   ]
  }
 ],
 "metadata": {
  "kernelspec": {
   "display_name": "base",
   "language": "python",
   "name": "python3"
  },
  "language_info": {
   "codemirror_mode": {
    "name": "ipython",
    "version": 3
   },
   "file_extension": ".py",
   "mimetype": "text/x-python",
   "name": "python",
   "nbconvert_exporter": "python",
   "pygments_lexer": "ipython3",
   "version": "3.13.5"
  }
 },
 "nbformat": 4,
 "nbformat_minor": 5
}
