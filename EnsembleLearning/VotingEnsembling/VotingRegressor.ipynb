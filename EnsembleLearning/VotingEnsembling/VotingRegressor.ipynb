{
 "cells": [
  {
   "cell_type": "code",
   "execution_count": 2,
   "id": "114f08c9",
   "metadata": {},
   "outputs": [],
   "source": [
    "from sklearn.datasets import fetch_california_housing\n",
    "import numpy as np"
   ]
  },
  {
   "cell_type": "code",
   "execution_count": 3,
   "id": "e45925ee",
   "metadata": {},
   "outputs": [
    {
     "data": {
      "text/plain": [
       "(20640,)"
      ]
     },
     "execution_count": 3,
     "metadata": {},
     "output_type": "execute_result"
    }
   ],
   "source": [
    "X,y = fetch_california_housing(return_X_y=True)\n",
    "     \n",
    "X.shape\n",
    "y.shape"
   ]
  },
  {
   "cell_type": "code",
   "execution_count": 4,
   "id": "87ec9d4a",
   "metadata": {},
   "outputs": [
    {
     "data": {
      "text/plain": [
       "array([[   8.3252    ,   41.        ,    6.98412698, ...,    2.55555556,\n",
       "          37.88      , -122.23      ],\n",
       "       [   8.3014    ,   21.        ,    6.23813708, ...,    2.10984183,\n",
       "          37.86      , -122.22      ],\n",
       "       [   7.2574    ,   52.        ,    8.28813559, ...,    2.80225989,\n",
       "          37.85      , -122.24      ],\n",
       "       ...,\n",
       "       [   1.7       ,   17.        ,    5.20554273, ...,    2.3256351 ,\n",
       "          39.43      , -121.22      ],\n",
       "       [   1.8672    ,   18.        ,    5.32951289, ...,    2.12320917,\n",
       "          39.43      , -121.32      ],\n",
       "       [   2.3886    ,   16.        ,    5.25471698, ...,    2.61698113,\n",
       "          39.37      , -121.24      ]])"
      ]
     },
     "execution_count": 4,
     "metadata": {},
     "output_type": "execute_result"
    }
   ],
   "source": [
    "X"
   ]
  },
  {
   "cell_type": "code",
   "execution_count": 5,
   "id": "4961169e",
   "metadata": {},
   "outputs": [],
   "source": [
    "from sklearn.linear_model import LinearRegression\n",
    "from sklearn.tree import DecisionTreeRegressor\n",
    "from sklearn.svm import SVR\n",
    "from sklearn.model_selection import cross_val_score"
   ]
  },
  {
   "cell_type": "code",
   "execution_count": 16,
   "id": "c31fc40c",
   "metadata": {},
   "outputs": [
    {
     "name": "stdout",
     "output_type": "stream",
     "text": [
      "lr 0.51\n",
      "dt 0.24\n",
      "svr -0.25\n"
     ]
    }
   ],
   "source": [
    "\n",
    "lr = LinearRegression()\n",
    "dt = DecisionTreeRegressor()\n",
    "svr = SVR()\n",
    "estimators = [('lr',lr),('dt',dt),('svr',svr)]\n",
    "\n",
    "for estimator in estimators:\n",
    "  scores = cross_val_score(estimator[1],X,y,scoring='r2',cv=10,n_jobs=-1)\n",
    "  print(estimator[0],np.round(np.mean(scores),2))"
   ]
  },
  {
   "cell_type": "code",
   "execution_count": 17,
   "id": "524929b5",
   "metadata": {},
   "outputs": [],
   "source": [
    "from sklearn.ensemble import VotingRegressor"
   ]
  },
  {
   "cell_type": "code",
   "execution_count": 18,
   "id": "d2c9b4a8",
   "metadata": {},
   "outputs": [
    {
     "name": "stdout",
     "output_type": "stream",
     "text": [
      "Voting Regressor 0.48\n"
     ]
    }
   ],
   "source": [
    "vr = VotingRegressor(estimators,n_jobs=-1)\n",
    "scores = cross_val_score(vr,X,y,scoring='r2',cv=10,n_jobs = -1)\n",
    "print(\"Voting Regressor\",np.round(np.mean(scores),2))"
   ]
  },
  {
   "cell_type": "code",
   "execution_count": null,
   "id": "3ff2c76d",
   "metadata": {},
   "outputs": [
    {
     "name": "stdout",
     "output_type": "stream",
     "text": [
      "For i=1,j=1,k=1 0.48\n",
      "For i=1,j=1,k=2 0.37\n",
      "For i=1,j=1,k=3 0.28\n",
      "For i=1,j=2,k=1 0.48\n",
      "For i=1,j=2,k=2 0.43\n",
      "For i=1,j=2,k=3 0.36\n",
      "For i=1,j=3,k=1 0.46\n",
      "For i=1,j=3,k=2 0.44\n",
      "For i=1,j=3,k=3 0.4\n",
      "For i=2,j=1,k=1 0.52\n",
      "For i=2,j=1,k=2 0.44\n",
      "For i=2,j=1,k=3 0.37\n",
      "For i=2,j=2,k=1 0.52\n",
      "For i=2,j=2,k=2 0.48\n",
      "For i=2,j=2,k=3 0.42\n",
      "For i=2,j=3,k=1 0.52\n",
      "For i=2,j=3,k=2 0.48\n",
      "For i=2,j=3,k=3 0.45\n",
      "For i=3,j=1,k=1 0.53\n",
      "For i=3,j=1,k=2 0.47\n",
      "For i=3,j=1,k=3 0.41\n",
      "For i=3,j=2,k=1 0.54\n",
      "For i=3,j=2,k=2 0.5\n",
      "For i=3,j=2,k=3 0.45\n",
      "For i=3,j=3,k=1 0.53\n",
      "For i=3,j=3,k=2 0.51\n",
      "For i=3,j=3,k=3 0.47\n"
     ]
    }
   ],
   "source": [
    "for i in range(1,4):\n",
    "  for j in range(1,4):\n",
    "    for k in range(1,4):\n",
    "      vr = VotingRegressor(estimators,weights=[i,j,k],n_jobs = -1)\n",
    "      scores = cross_val_score(vr,X,y,scoring='r2',cv=10,n_jobs = -1)\n",
    "      print(\"For i={},j={},k={}\".format(i,j,k),np.round(np.mean(scores),2))"
   ]
  },
  {
   "cell_type": "markdown",
   "id": "dc2e0b65",
   "metadata": {},
   "source": [
    "# Using Same Algorithm"
   ]
  },
  {
   "cell_type": "code",
   "execution_count": 10,
   "id": "3fce52a3",
   "metadata": {},
   "outputs": [],
   "source": [
    "dt1 = DecisionTreeRegressor(max_depth=1)\n",
    "dt2 = DecisionTreeRegressor(max_depth=3)\n",
    "dt3 = DecisionTreeRegressor(max_depth=5)\n",
    "dt4 = DecisionTreeRegressor(max_depth=7)\n",
    "dt5 = DecisionTreeRegressor(max_depth=None)"
   ]
  },
  {
   "cell_type": "code",
   "execution_count": 11,
   "id": "00bad7c3",
   "metadata": {},
   "outputs": [
    {
     "name": "stdout",
     "output_type": "stream",
     "text": [
      "dt1 0.13\n",
      "dt2 0.36\n",
      "dt3 0.43\n",
      "dt4 0.47\n",
      "dt5 0.25\n"
     ]
    }
   ],
   "source": [
    "estimators = [('dt1',dt1),('dt2',dt2),('dt3',dt3),('dt4',dt4),('dt5',dt5)]\n",
    "for estimator in estimators:\n",
    "  scores = cross_val_score(estimator[1],X,y,scoring='r2',cv=10,n_jobs = -1)\n",
    "  print(estimator[0],np.round(np.mean(scores),2))"
   ]
  },
  {
   "cell_type": "code",
   "execution_count": 13,
   "id": "ec630c33",
   "metadata": {},
   "outputs": [
    {
     "name": "stdout",
     "output_type": "stream",
     "text": [
      "Voting Regressor 0.5\n"
     ]
    }
   ],
   "source": [
    "vr = VotingRegressor(estimators)\n",
    "scores = cross_val_score(vr,X,y,scoring='r2',cv=10,n_jobs = -1)\n",
    "print(\"Voting Regressor\",np.round(np.mean(scores),2))"
   ]
  }
 ],
 "metadata": {
  "kernelspec": {
   "display_name": "base",
   "language": "python",
   "name": "python3"
  },
  "language_info": {
   "codemirror_mode": {
    "name": "ipython",
    "version": 3
   },
   "file_extension": ".py",
   "mimetype": "text/x-python",
   "name": "python",
   "nbconvert_exporter": "python",
   "pygments_lexer": "ipython3",
   "version": "3.13.5"
  }
 },
 "nbformat": 4,
 "nbformat_minor": 5
}
