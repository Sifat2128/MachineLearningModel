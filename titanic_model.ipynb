{
 "cells": [
  {
   "cell_type": "code",
   "execution_count": 217,
   "id": "12e477fc",
   "metadata": {},
   "outputs": [],
   "source": [
    "import numpy as np\n",
    "import pandas as pd\n",
    "import matplotlib.pyplot as plt\n",
    "import seaborn as sns\n",
    "from sklearn.tree import DecisionTreeClassifier \n",
    "from sklearn.model_selection import train_test_split,cross_val_score,StratifiedKFold,GridSearchCV,RandomizedSearchCV\n",
    "\n",
    "from sklearn.metrics import accuracy_score,classification_report,confusion_matrix,roc_auc_score"
   ]
  },
  {
   "cell_type": "code",
   "execution_count": 218,
   "id": "39fe61e9",
   "metadata": {},
   "outputs": [
    {
     "name": "stdout",
     "output_type": "stream",
     "text": [
      "0\n"
     ]
    },
    {
     "data": {
      "text/plain": [
       "Index(['PassengerId', 'Survived', 'Pclass', 'Name', 'Sex', 'Age', 'SibSp',\n",
       "       'Parch', 'Ticket', 'Fare', 'Cabin', 'Embarked'],\n",
       "      dtype='object')"
      ]
     },
     "execution_count": 218,
     "metadata": {},
     "output_type": "execute_result"
    }
   ],
   "source": [
    "df = pd.read_csv(\"train.csv\")\n",
    "df.head()\n",
    "print(df.PassengerId.isnull().sum())\n",
    "df.columns"
   ]
  },
  {
   "cell_type": "code",
   "execution_count": 219,
   "id": "fa28bdfd",
   "metadata": {},
   "outputs": [
    {
     "name": "stdout",
     "output_type": "stream",
     "text": [
      "0 0\n"
     ]
    }
   ],
   "source": [
    "print(\n",
    "    df.Survived.isnull().sum(),\n",
    "    df.Sex.isnull().sum()\n",
    "    \n",
    ")\n"
   ]
  },
  {
   "cell_type": "code",
   "execution_count": 220,
   "id": "fde42f5b",
   "metadata": {},
   "outputs": [],
   "source": [
    "df['Family'] = df['Parch']+df['SibSp']"
   ]
  },
  {
   "cell_type": "code",
   "execution_count": 221,
   "id": "f176e617",
   "metadata": {},
   "outputs": [],
   "source": [
    "df['Title'] = df.Name.str.extract(r'(Mr|Mrs|Ms)\\.')"
   ]
  },
  {
   "cell_type": "code",
   "execution_count": 222,
   "id": "3216ff6f",
   "metadata": {},
   "outputs": [
    {
     "data": {
      "text/plain": [
       "np.int64(248)"
      ]
     },
     "execution_count": 222,
     "metadata": {},
     "output_type": "execute_result"
    }
   ],
   "source": [
    "df['Title'].isnull().sum()"
   ]
  },
  {
   "cell_type": "code",
   "execution_count": 223,
   "id": "8fa8417b",
   "metadata": {},
   "outputs": [],
   "source": [
    "df['Title'] = df.apply(lambda row : 'Mr' if pd.isnull(row['Title']) and row['Sex'] == 'male' else\n",
    "   ('Mrs' if pd.isnull(row['Title']) and row['Sex'] == 'female' else row['Title'] ), axis = 1)"
   ]
  },
  {
   "cell_type": "code",
   "execution_count": 224,
   "id": "93fe9341",
   "metadata": {},
   "outputs": [],
   "source": [
    "df = df.drop(['Ticket','Fare','Cabin','SibSp','Parch','Name'],axis = 1)"
   ]
  },
  {
   "cell_type": "code",
   "execution_count": 225,
   "id": "dab5be42",
   "metadata": {},
   "outputs": [
    {
     "data": {
      "text/plain": [
       "Index(['PassengerId', 'Survived', 'Pclass', 'Sex', 'Age', 'Embarked', 'Family',\n",
       "       'Title'],\n",
       "      dtype='object')"
      ]
     },
     "execution_count": 225,
     "metadata": {},
     "output_type": "execute_result"
    }
   ],
   "source": [
    "df.columns"
   ]
  },
  {
   "cell_type": "code",
   "execution_count": 226,
   "id": "43f6e45e",
   "metadata": {},
   "outputs": [
    {
     "name": "stderr",
     "output_type": "stream",
     "text": [
      "C:\\Users\\ACER\\AppData\\Local\\Temp\\ipykernel_5656\\3278901010.py:1: FutureWarning: Downcasting behavior in `replace` is deprecated and will be removed in a future version. To retain the old behavior, explicitly call `result.infer_objects(copy=False)`. To opt-in to the future behavior, set `pd.set_option('future.no_silent_downcasting', True)`\n",
      "  df = df.replace(\n"
     ]
    }
   ],
   "source": [
    "df = df.replace(\n",
    "    {'Sex':\n",
    "    {\n",
    "        'male':0,\n",
    "        'female':1\n",
    "    },\n",
    "    'Embarked':\n",
    "    {\n",
    "        'S':0,\n",
    "        'Q':1,\n",
    "        'C':2\n",
    "\n",
    "    },\n",
    "    'Title':\n",
    "    {\n",
    "        'Mr':0,\n",
    "        'Mrs':1,\n",
    "        'Ms':2\n",
    "\n",
    "    }\n",
    "\n",
    "\n",
    "\n",
    "})"
   ]
  },
  {
   "cell_type": "code",
   "execution_count": 227,
   "id": "195f5c17",
   "metadata": {},
   "outputs": [
    {
     "data": {
      "text/plain": [
       "np.int64(177)"
      ]
     },
     "execution_count": 227,
     "metadata": {},
     "output_type": "execute_result"
    }
   ],
   "source": [
    "df.Age.isnull().sum()"
   ]
  },
  {
   "cell_type": "code",
   "execution_count": 228,
   "id": "514ea1a7",
   "metadata": {},
   "outputs": [
    {
     "data": {
      "text/plain": [
       "np.int64(0)"
      ]
     },
     "execution_count": 228,
     "metadata": {},
     "output_type": "execute_result"
    }
   ],
   "source": [
    "df.Pclass.isnull().sum()"
   ]
  },
  {
   "cell_type": "code",
   "execution_count": 229,
   "id": "5b8af2d0",
   "metadata": {},
   "outputs": [],
   "source": [
    "df.Age = df.Age.fillna(df.Age.mode()[0])"
   ]
  },
  {
   "cell_type": "code",
   "execution_count": 230,
   "id": "290c73da",
   "metadata": {},
   "outputs": [
    {
     "data": {
      "text/plain": [
       "Text(0.5, 1.0, 'HeatMap')"
      ]
     },
     "execution_count": 230,
     "metadata": {},
     "output_type": "execute_result"
    },
    {
     "data": {
      "image/png": "[encoded data removed]",
      "text/plain": [
       "<Figure size 640x480 with 2 Axes>"
      ]
     },
     "metadata": {},
     "output_type": "display_data"
    }
   ],
   "source": [
    "numeric_columns = df.select_dtypes(include=['number'])\n",
    "corr = numeric_columns.corr()\n",
    "sns.heatmap(corr,annot = True,cmap = 'coolwarm',linewidth = 0.5)\n",
    "plt.title(\"HeatMap\")"
   ]
  },
  {
   "cell_type": "code",
   "execution_count": 231,
   "id": "f957ede9",
   "metadata": {},
   "outputs": [],
   "source": [
    "X = df.drop(['PassengerId','Survived','Pclass'],axis = 1)\n",
    "Y = df.Survived"
   ]
  },
  {
   "cell_type": "code",
   "execution_count": 232,
   "id": "92088514",
   "metadata": {},
   "outputs": [],
   "source": [
    "X_train,X_test,Y_train,Y_test = train_test_split(X,Y,test_size = 0.2 , random_state = 45)"
   ]
  },
  {
   "cell_type": "code",
   "execution_count": 233,
   "id": "b5bb48a6",
   "metadata": {},
   "outputs": [
    {
     "name": "stdout",
     "output_type": "stream",
     "text": [
      "Fitting 5 folds for each of 720 candidates, totalling 3600 fits\n",
      "Best Parameters: {'criterion': 'gini', 'max_depth': 10, 'max_features': 'sqrt', 'min_samples_leaf': 2, 'min_samples_split': 10, 'random_state': 45, 'splitter': 'random'}\n"
     ]
    }
   ],
   "source": [
    "param_grid = {\n",
    "    'criterion': ['gini', 'entropy'],  # Split quality measure\n",
    "    'splitter': ['best', 'random'],    # Split strategy\n",
    "    'max_depth': [None, 10, 20, 30],    # Maximum depth of the tree\n",
    "    'min_samples_split': [2, 5, 10],    # Minimum samples required to split a node\n",
    "    'min_samples_leaf': [1, 2, 4],      # Minimum samples required in each leaf\n",
    "    'max_features': [None,  'sqrt', 'log2', 1, 2],  # Features to consider for splig\n",
    "    'random_state': [45],  # For reproducibility\n",
    "}\n",
    "\n",
    "# Create the Decision Tree model\n",
    "dt_model = DecisionTreeClassifier(class_weight=\"balanced\")\n",
    "\n",
    "# Initialize GridSearchCV with cross-validation (cv=5)\n",
    "grid_search = GridSearchCV(estimator=dt_model, param_grid=param_grid, cv=5, n_jobs=-1, verbose=1,error_score='raise')\n",
    "\n",
    "# Train the model using GridSearchCV\n",
    "grid_search.fit(X_train, Y_train)\n",
    "\n",
    "# Get the best parameters and the best model\n",
    "print(f\"Best Parameters: {grid_search.best_params_}\")\n",
    "best_model = grid_search.best_estimator_\n",
    "\n",
    "# Make predictions with the best model\n",
    "y_pred = best_model.predict(X_test)\n"
   ]
  },
  {
   "cell_type": "code",
   "execution_count": 234,
   "id": "920aaf70",
   "metadata": {},
   "outputs": [
    {
     "name": "stdout",
     "output_type": "stream",
     "text": [
      "[[99 18]\n",
      " [12 50]]\n",
      "0.8324022346368715\n",
      "              precision    recall  f1-score   support\n",
      "\n",
      "           0       0.89      0.85      0.87       117\n",
      "           1       0.74      0.81      0.77        62\n",
      "\n",
      "    accuracy                           0.83       179\n",
      "   macro avg       0.81      0.83      0.82       179\n",
      "weighted avg       0.84      0.83      0.83       179\n",
      "\n",
      "0.826302729528536\n"
     ]
    }
   ],
   "source": [
    "cm = confusion_matrix(Y_test,y_pred)\n",
    "print(cm)\n",
    "print(accuracy_score(Y_test,y_pred))\n",
    "print(classification_report(Y_test,y_pred))\n",
    "print(roc_auc_score(Y_test,y_pred))"
   ]
  },
  {
   "cell_type": "code",
   "execution_count": 235,
   "id": "ba3a2133",
   "metadata": {},
   "outputs": [
    {
     "data": {
      "text/plain": [
       "array([0.82681564, 0.81460674, 0.81460674, 0.78089888, 0.8258427 ])"
      ]
     },
     "execution_count": 235,
     "metadata": {},
     "output_type": "execute_result"
    }
   ],
   "source": [
    "sar = StratifiedKFold(n_splits = 5)\n",
    "cross_val_score(best_model,X,Y,cv = sar )"
   ]
  },
  {
   "cell_type": "code",
   "execution_count": 236,
   "id": "28085da8",
   "metadata": {},
   "outputs": [
    {
     "name": "stdout",
     "output_type": "stream",
     "text": [
      "Fitting 5 folds for each of 100 candidates, totalling 500 fits\n",
      "Best Parameters: {'splitter': 'random', 'random_state': 45, 'min_samples_split': 10, 'min_samples_leaf': 2, 'max_features': 2, 'max_depth': 10, 'criterion': 'gini'}\n"
     ]
    }
   ],
   "source": [
    "param_dist = {\n",
    "    'criterion': ['gini', 'entropy'],  # Split quality measure\n",
    "    'splitter': ['best', 'random'],    # Split strategy\n",
    "    'max_depth': [None, 10, 20, 30],    # Maximum depth of the tree\n",
    "    'min_samples_split': [2, 5, 10],    # Minimum samples required to split a node\n",
    "    'min_samples_leaf': [1, 2, 4],      # Minimum samples required in each leaf\n",
    "    'max_features': [None, 'sqrt', 'log2', 1, 2],  # Features to consider for split\n",
    "    'random_state': [45],  # For reproducibility\n",
    "}\n",
    "\n",
    "# Create the Decision Tree model\n",
    "dt_model = DecisionTreeClassifier(class_weight=\"balanced\")\n",
    "\n",
    "# Initialize RandomizedSearchCV with cross-validation (cv=5)\n",
    "random_search = RandomizedSearchCV(estimator=dt_model, param_distributions=param_dist, n_iter=100, cv=5, n_jobs=-1, verbose=1, random_state=45, error_score='raise')\n",
    "\n",
    "# Train the model using RandomizedSearchCV\n",
    "random_search.fit(X_train, Y_train)\n",
    "\n",
    "# Get the best parameters and the best model\n",
    "print(f\"Best Parameters: {random_search.best_params_}\")\n",
    "best_model2 = random_search.best_estimator_\n",
    "\n",
    "# Make predictions with the best model\n",
    "y_pred2 = best_model.predict(X_test)"
   ]
  },
  {
   "cell_type": "code",
   "execution_count": 237,
   "id": "6b3b6749",
   "metadata": {},
   "outputs": [
    {
     "name": "stdout",
     "output_type": "stream",
     "text": [
      "[[99 18]\n",
      " [12 50]]\n",
      "0.8324022346368715\n",
      "              precision    recall  f1-score   support\n",
      "\n",
      "           0       0.89      0.85      0.87       117\n",
      "           1       0.74      0.81      0.77        62\n",
      "\n",
      "    accuracy                           0.83       179\n",
      "   macro avg       0.81      0.83      0.82       179\n",
      "weighted avg       0.84      0.83      0.83       179\n",
      "\n",
      "0.826302729528536\n"
     ]
    }
   ],
   "source": [
    "cm = confusion_matrix(Y_test,y_pred2)\n",
    "print(cm)\n",
    "print(accuracy_score(Y_test,y_pred2))\n",
    "print(classification_report(Y_test,y_pred2))\n",
    "print(roc_auc_score(Y_test,y_pred2))"
   ]
  },
  {
   "cell_type": "code",
   "execution_count": 238,
   "id": "667cbae9",
   "metadata": {},
   "outputs": [
    {
     "data": {
      "text/plain": [
       "array([0.8       , 0.84269663, 0.75280899, 0.82022472, 0.79775281,\n",
       "       0.80898876, 0.80898876, 0.74157303, 0.85393258, 0.86516854])"
      ]
     },
     "execution_count": 238,
     "metadata": {},
     "output_type": "execute_result"
    }
   ],
   "source": [
    "sar = StratifiedKFold(n_splits = 10)\n",
    "cross_val_score(best_model2,X,Y,cv = sar )"
   ]
  },
  {
   "cell_type": "code",
   "execution_count": 239,
   "id": "dfc57e28",
   "metadata": {},
   "outputs": [],
   "source": [
    "df2 = pd.read_csv('titanictest.csv')"
   ]
  },
  {
   "cell_type": "code",
   "execution_count": 240,
   "id": "79dd464b",
   "metadata": {},
   "outputs": [
    {
     "data": {
      "text/plain": [
       "Index(['PassengerId', 'Pclass', 'Name', 'Sex', 'Age', 'SibSp', 'Parch',\n",
       "       'Ticket', 'Fare', 'Cabin', 'Embarked'],\n",
       "      dtype='object')"
      ]
     },
     "execution_count": 240,
     "metadata": {},
     "output_type": "execute_result"
    }
   ],
   "source": [
    "df2.columns"
   ]
  },
  {
   "cell_type": "code",
   "execution_count": 241,
   "id": "a2b10e5b",
   "metadata": {},
   "outputs": [],
   "source": [
    "df2['Family'] = df2['Parch']+df2['SibSp']\n",
    "df2['Title'] = df2.Name.str.extract(r'(Mr|Mrs|Ms)\\.')\n",
    "df2['Title'] = df2.apply(lambda row : 'Mr' if pd.isnull(row['Title']) and row['Sex'] == 'male' else\n",
    "   ('Mrs' if pd.isnull(row['Title']) and row['Sex'] == 'female' else row['Title'] ), axis = 1)\n"
   ]
  },
  {
   "cell_type": "code",
   "execution_count": 242,
   "id": "dbaf4cc1",
   "metadata": {},
   "outputs": [
    {
     "data": {
      "text/plain": [
       "np.int64(0)"
      ]
     },
     "execution_count": 242,
     "metadata": {},
     "output_type": "execute_result"
    }
   ],
   "source": [
    "df2.Title.isnull().sum()"
   ]
  },
  {
   "cell_type": "code",
   "execution_count": 243,
   "id": "108753da",
   "metadata": {},
   "outputs": [
    {
     "data": {
      "text/plain": [
       "np.int64(86)"
      ]
     },
     "execution_count": 243,
     "metadata": {},
     "output_type": "execute_result"
    }
   ],
   "source": [
    "df2.Age.isnull().sum()"
   ]
  },
  {
   "cell_type": "code",
   "execution_count": 244,
   "id": "d3e30a4b",
   "metadata": {},
   "outputs": [],
   "source": [
    "df2.Age = df2.Age.fillna(df2.Age.mode()[0])"
   ]
  },
  {
   "cell_type": "code",
   "execution_count": 245,
   "id": "4b403582",
   "metadata": {},
   "outputs": [
    {
     "name": "stderr",
     "output_type": "stream",
     "text": [
      "C:\\Users\\ACER\\AppData\\Local\\Temp\\ipykernel_5656\\2632603502.py:1: FutureWarning: Downcasting behavior in `replace` is deprecated and will be removed in a future version. To retain the old behavior, explicitly call `result.infer_objects(copy=False)`. To opt-in to the future behavior, set `pd.set_option('future.no_silent_downcasting', True)`\n",
      "  df2 = df2.replace(\n"
     ]
    }
   ],
   "source": [
    "df2 = df2.replace(\n",
    "    {'Sex':\n",
    "    {\n",
    "        'male':0,\n",
    "        'female':1\n",
    "    },\n",
    "    'Embarked':\n",
    "    {\n",
    "        'S':0,\n",
    "        'Q':1,\n",
    "        'C':2\n",
    "\n",
    "    },\n",
    "    'Title':\n",
    "    {\n",
    "        'Mr':0,\n",
    "        'Mrs':1,\n",
    "        'Ms':2\n",
    "\n",
    "    }\n",
    "\n",
    "\n",
    "\n",
    "})"
   ]
  },
  {
   "cell_type": "code",
   "execution_count": 246,
   "id": "30c62db3",
   "metadata": {},
   "outputs": [],
   "source": [
    "df2 = df2.drop(['Pclass','Fare','Ticket','Cabin','Parch','SibSp','Name'],axis = 1)"
   ]
  },
  {
   "cell_type": "code",
   "execution_count": 247,
   "id": "69b13655",
   "metadata": {},
   "outputs": [
    {
     "data": {
      "text/plain": [
       "Index(['PassengerId', 'Sex', 'Age', 'Embarked', 'Family', 'Title'], dtype='object')"
      ]
     },
     "execution_count": 247,
     "metadata": {},
     "output_type": "execute_result"
    }
   ],
   "source": [
    "\n",
    "df2.columns"
   ]
  },
  {
   "cell_type": "code",
   "execution_count": 248,
   "id": "bbe27b47",
   "metadata": {},
   "outputs": [
    {
     "data": {
      "text/plain": [
       "np.int64(0)"
      ]
     },
     "execution_count": 248,
     "metadata": {},
     "output_type": "execute_result"
    }
   ],
   "source": [
    "df2.Family.isnull().sum()\n",
    "df2.Age.isnull().sum()"
   ]
  },
  {
   "cell_type": "code",
   "execution_count": 249,
   "id": "6cebfd94",
   "metadata": {},
   "outputs": [
    {
     "data": {
      "text/plain": [
       "array([0, 1, 2])"
      ]
     },
     "execution_count": 249,
     "metadata": {},
     "output_type": "execute_result"
    }
   ],
   "source": [
    "df2.Embarked.unique()\n",
    "df2.Sex.unique()\n",
    "df2.Title.unique()"
   ]
  },
  {
   "cell_type": "code",
   "execution_count": 250,
   "id": "4705be90",
   "metadata": {},
   "outputs": [],
   "source": [
    "Xl = df2.drop(['PassengerId'],axis = 1)"
   ]
  },
  {
   "cell_type": "code",
   "execution_count": 251,
   "id": "5497b607",
   "metadata": {},
   "outputs": [],
   "source": [
    "y_out = best_model2.predict(Xl)"
   ]
  },
  {
   "cell_type": "code",
   "execution_count": 252,
   "id": "bbf20158",
   "metadata": {},
   "outputs": [],
   "source": [
    "sub = pd.DataFrame({'PassengerId':df2['PassengerId'],'Survived':y_out})"
   ]
  },
  {
   "cell_type": "code",
   "execution_count": 253,
   "id": "e50ba3ad",
   "metadata": {},
   "outputs": [],
   "source": [
    "sub.to_csv('submit_titanic2.csv',index = False)"
   ]
  }
 ],
 "metadata": {
  "kernelspec": {
   "display_name": "base",
   "language": "python",
   "name": "python3"
  },
  "language_info": {
   "codemirror_mode": {
    "name": "ipython",
    "version": 3
   },
   "file_extension": ".py",
   "mimetype": "text/x-python",
   "name": "python",
   "nbconvert_exporter": "python",
   "pygments_lexer": "ipython3",
   "version": "3.13.5"
  }
 },
 "nbformat": 4,
 "nbformat_minor": 5
}
