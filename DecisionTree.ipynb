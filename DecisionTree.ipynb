{
 "cells": [
  {
   "cell_type": "code",
   "execution_count": 15,
   "id": "78420c10",
   "metadata": {},
   "outputs": [
    {
     "name": "stdout",
     "output_type": "stream",
     "text": [
      "Accuracy: 0.93\n",
      "Confusion Matrix:\n",
      "[[19  0  0]\n",
      " [ 0 12  1]\n",
      " [ 0  2 11]]\n",
      "Classification Report:\n",
      "              precision    recall  f1-score   support\n",
      "\n",
      "           0       1.00      1.00      1.00        19\n",
      "           1       0.86      0.92      0.89        13\n",
      "           2       0.92      0.85      0.88        13\n",
      "\n",
      "    accuracy                           0.93        45\n",
      "   macro avg       0.92      0.92      0.92        45\n",
      "weighted avg       0.93      0.93      0.93        45\n",
      "\n"
     ]
    }
   ],
   "source": [
    "from sklearn.tree import DecisionTreeClassifier\n",
    "from sklearn.datasets import load_iris\n",
    "from sklearn.model_selection import GridSearchCV,RandomizedSearchCV,StratifiedKFold,cross_val_score,train_test_split\n",
    "from sklearn.metrics import accuracy_score, confusion_matrix, classification_report\n",
    "\n",
    "# Load dataset\n",
    "data = load_iris()\n",
    "X = data.data  # Features\n",
    "y = data.target  # Target va\n",
    "\n",
    "# Split the dataset into training and testing sets\n",
    "X_train, X_test, y_train, y_test = train_test_split(X, y, test_size=0.3, random_state=42)\n",
    "\n",
    "# Create and train the Decision Tree model with all hyperparameters\n",
    "model = DecisionTreeClassifier(\n",
    "    criterion='entropy',  # Using entropy for information gain\n",
    "    splitter='random',    # Using random strategy for splits\n",
    "    max_depth=10,         # Limit the depth of the tree to 10\n",
    "    min_samples_split=4,  # Require at least 4 samples to split a node\n",
    "    min_samples_leaf=2,   # Require at least 2 samples in each leaf node\n",
    "    min_weight_fraction_leaf=0.0,  # No minimum weight for leaves\n",
    "    max_features='sqrt', # Use sqrt(number of features) for best split\n",
    "    random_state=42,     # For reproducibility\n",
    "    max_leaf_nodes=20,   # Limit to 20 leaf nodes\n",
    "    min_impurity_decrease=0.01,  # Only split if impurity decrease >= 0.01\n",
    "    class_weight='balanced',  # Automatically adjust weights to balance classes\n",
    "    \n",
    ")\n",
    "\n",
    "# Train the model\n",
    "model.fit(X_train, y_train)\n",
    "\n",
    "# Make predictions\n",
    "y_pred = model.predict(X_test)\n",
    "\n",
    "# Evaluate the model\n",
    "print(f'Accuracy: {accuracy_score(y_test, y_pred):.2f}')\n",
    "print(\"Confusion Matrix:\")\n",
    "print(confusion_matrix(y_test, y_pred))\n",
    "print(\"Classification Report:\")\n",
    "print(classification_report(y_test, y_pred))\n"
   ]
  },
  {
   "cell_type": "code",
   "execution_count": null,
   "id": "bcf4967d",
   "metadata": {},
   "outputs": [
    {
     "name": "stdout",
     "output_type": "stream",
     "text": [
      "Accuracy: 0.93\n",
      "Confusion Matrix:\n",
      "[[19  0  0]\n",
      " [ 0 12  1]\n",
      " [ 0  2 11]]\n",
      "Classification Report:\n",
      "              precision    recall  f1-score   support\n",
      "\n",
      "           0       1.00      1.00      1.00        19\n",
      "           1       0.86      0.92      0.89        13\n",
      "           2       0.92      0.85      0.88        13\n",
      "\n",
      "    accuracy                           0.93        45\n",
      "   macro avg       0.92      0.92      0.92        45\n",
      "weighted avg       0.93      0.93      0.93        45\n",
      "\n"
     ]
    }
   ],
   "source": [
    "from sklearn.tree import DecisionTreeClassifier\n",
    "from sklearn.datasets import load_iris\n",
    "from sklearn.model_selection import GridSearchCV,RandomizedSearchCV,StratifiedKFold,cross_val_score,train_test_split\n",
    "from sklearn.metrics import accuracy_score, confusion_matrix, classification_report\n",
    "\n",
    "# Load dataset\n",
    "data = load_iris()\n",
    "X = data.data  # Features\n",
    "y = data.target  # Target va\n",
    "\n",
    "# Split the dataset into training and testing sets\n",
    "X_train, X_test, y_train, y_test = train_test_split(X, y, test_size=0.3, random_state=42)\n",
    "\n",
    "# Create and train the Decision Tree model with all hyperparameters\n",
    "model = DecisionTreeClassifier(\n",
    "    criterion='entropy',  # Using entropy for information gain\n",
    "    splitter='random',    # Using random strategy for splits\n",
    "    max_depth=10,         # Limit the depth of the tree to 10\n",
    "    min_samples_split=4,  # Require at least 4 samples to split a node\n",
    "    min_samples_leaf=2,   # Require at least 2 samples in each leaf node\n",
    "    min_weight_fraction_leaf=0.0,  # No minimum weight for leaves\n",
    "    max_features='sqrt', # Use sqrt(number of features) for best split\n",
    "    random_state=42,     # For reproducibility\n",
    "    max_leaf_nodes=20,   # Limit to 20 leaf nodes\n",
    "    min_impurity_decrease=0.01,  # Only split if impurity decrease >= 0.01\n",
    "    class_weight='balanced',  # Automatically adjust weights to balance classes\n",
    "    \n",
    ")\n",
    "\n",
    "# Train the model\n",
    "model.fit(X_train, y_train)\n",
    "\n",
    "# Make predictions\n",
    "y_pred = model.predict(X_test)\n",
    "\n",
    "# Evaluate the model\n",
    "print(f'Accuracy: {accuracy_score(y_test, y_pred):.2f}')\n",
    "print(\"Confusion Matrix:\")\n",
    "print(confusion_matrix(y_test, y_pred))\n",
    "print(\"Classification Report:\")\n",
    "print(classification_report(y_test, y_pred))\n"
   ]
  },
  {
   "cell_type": "code",
   "execution_count": 13,
   "id": "1d7aa5db",
   "metadata": {},
   "outputs": [
    {
     "data": {
      "text/plain": [
       "array([1.        , 0.875     , 0.875     , 1.        , 1.        ,\n",
       "       1.        , 1.        , 1.        , 0.875     , 1.        ,\n",
       "       0.85714286, 1.        , 0.85714286, 1.        , 0.71428571,\n",
       "       1.        , 0.85714286, 1.        , 1.        , 1.        ])"
      ]
     },
     "execution_count": 13,
     "metadata": {},
     "output_type": "execute_result"
    }
   ],
   "source": [
    "stra = StratifiedKFold(n_splits=20)\n",
    "cross_val_score(model,X,y,cv = stra)"
   ]
  },
  {
   "cell_type": "code",
   "execution_count": null,
   "id": "1e99aef7",
   "metadata": {},
   "outputs": [],
   "source": []
  }
 ],
 "metadata": {
  "kernelspec": {
   "display_name": "base",
   "language": "python",
   "name": "python3"
  },
  "language_info": {
   "codemirror_mode": {
    "name": "ipython",
    "version": 3
   },
   "file_extension": ".py",
   "mimetype": "text/x-python",
   "name": "python",
   "nbconvert_exporter": "python",
   "pygments_lexer": "ipython3",
   "version": "3.13.5"
  }
 },
 "nbformat": 4,
 "nbformat_minor": 5
}
